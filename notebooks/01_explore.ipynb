{
 "cells": [
  {
   "cell_type": "code",
   "execution_count": 1,
   "id": "ed083a67-7688-46ed-8215-6444180892c5",
   "metadata": {},
   "outputs": [
    {
     "name": "stdout",
     "output_type": "stream",
     "text": [
      "                                                text  label\n",
      "0  Bromwell High is a cartoon comedy. It ran at t...      1\n",
      "1  Homelessness (or Houselessness as George Carli...      1\n",
      "2  Brilliant over-acting by Lesley Ann Warren. Be...      1\n",
      "3  This is easily the most underrated film inn th...      1\n",
      "4  This is not the typical Mel Brooks film. It wa...      1\n",
      "                                                text  label\n",
      "0  I went and saw this movie last night after bei...      1\n",
      "1  Actor turned director Bill Paxton follows up h...      1\n",
      "2  As a recreational golfer with some knowledge o...      1\n",
      "3  I saw this film in a sneak preview, and it is ...      1\n",
      "4  Bill Paxton has taken the true story of the 19...      1\n",
      "(25000, 2)\n"
     ]
    }
   ],
   "source": [
    "import sys\n",
    "import os\n",
    "import pandas as pd\n",
    "\n",
    "# Add the project root to sys.path so Python can find src\n",
    "PROJECT_ROOT = os.path.abspath(\"..\")  # notebooks/.. → imdb-sentiment/\n",
    "sys.path.append(PROJECT_ROOT)\n",
    "\n",
    "# Now import your module\n",
    "from src.data import load_imdb\n",
    "\n",
    "# Paths to your data\n",
    "train_path = os.path.join(PROJECT_ROOT, \"data\", \"raw\", \"aclImdb\", \"train\")\n",
    "test_path = os.path.join(PROJECT_ROOT, \"data\", \"raw\", \"aclImdb\", \"test\")\n",
    "\n",
    "# Load the dataset\n",
    "train_df = load_imdb(train_path)\n",
    "test_df = load_imdb(test_path)\n",
    "\n",
    "# Check\n",
    "print(train_df.head())\n",
    "print(test_df.head())\n",
    "print(train_df.shape)\n",
    "\n",
    "\n"
   ]
  },
  {
   "cell_type": "code",
   "execution_count": 2,
   "id": "0c31902a-fd6f-4874-b838-b7c83beb84cb",
   "metadata": {},
   "outputs": [],
   "source": [
    "train_df.to_csv('../data/processed/train_raw.csv', index=False)\n",
    "test_df.to_csv('../data/processed/test_raw.csv', index=False)\n"
   ]
  },
  {
   "cell_type": "code",
   "execution_count": 3,
   "id": "aba9d9a9-e55f-4ea6-9912-73c861512532",
   "metadata": {},
   "outputs": [
    {
     "name": "stderr",
     "output_type": "stream",
     "text": [
      "[nltk_data] Downloading package stopwords to\n",
      "[nltk_data]     C:\\Users\\venka\\AppData\\Roaming\\nltk_data...\n",
      "[nltk_data]   Package stopwords is already up-to-date!\n",
      "[nltk_data] Downloading package punkt to\n",
      "[nltk_data]     C:\\Users\\venka\\AppData\\Roaming\\nltk_data...\n",
      "[nltk_data]   Package punkt is already up-to-date!\n",
      "[nltk_data] Downloading package wordnet to\n",
      "[nltk_data]     C:\\Users\\venka\\AppData\\Roaming\\nltk_data...\n",
      "[nltk_data]   Package wordnet is already up-to-date!\n",
      "[nltk_data] Downloading package omw-1.4 to\n",
      "[nltk_data]     C:\\Users\\venka\\AppData\\Roaming\\nltk_data...\n",
      "[nltk_data]   Package omw-1.4 is already up-to-date!\n"
     ]
    },
    {
     "data": {
      "text/plain": [
       "True"
      ]
     },
     "execution_count": 3,
     "metadata": {},
     "output_type": "execute_result"
    }
   ],
   "source": [
    "import nltk\n",
    "\n",
    "nltk.download('stopwords')\n",
    "nltk.download('punkt')\n",
    "nltk.download('wordnet')\n",
    "nltk.download('omw-1.4')\n"
   ]
  },
  {
   "cell_type": "code",
   "execution_count": 4,
   "id": "a69a9e1e-0a6a-4258-91ef-1a908072a0d4",
   "metadata": {},
   "outputs": [],
   "source": [
    "import re\n",
    "from nltk.corpus import stopwords\n",
    "from nltk.stem import WordNetLemmatizer\n",
    "from nltk.tokenize import word_tokenize\n",
    "\n",
    "STOPWORDS = set(stopwords.words(\"english\"))\n",
    "lemmatizer = WordNetLemmatizer()\n",
    "\n",
    "def clean_text(text):\n",
    "    # 1. Lowercase\n",
    "    text = text.lower()\n",
    "\n",
    "    # 2. Remove HTML tags\n",
    "    text = re.sub(r\"<.*?>\", \" \", text)\n",
    "\n",
    "    # 3. Remove non-alphabetic characters (punctuation, numbers)\n",
    "    text = re.sub(r\"[^a-z\\s]\", \" \", text)\n",
    "\n",
    "    # 4. Tokenize\n",
    "    tokens = word_tokenize(text)\n",
    "\n",
    "    # 5. Remove stopwords\n",
    "    tokens = [t for t in tokens if t not in STOPWORDS]\n",
    "\n",
    "    # 6. Lemmatize\n",
    "    tokens = [lemmatizer.lemmatize(t) for t in tokens]\n",
    "\n",
    "    return \" \".join(tokens)\n"
   ]
  },
  {
   "cell_type": "code",
   "execution_count": 5,
   "id": "c555f469-0791-44db-90b2-b741ca8435bb",
   "metadata": {},
   "outputs": [
    {
     "name": "stderr",
     "output_type": "stream",
     "text": [
      "[nltk_data] Downloading package punkt_tab to\n",
      "[nltk_data]     C:\\Users\\venka\\AppData\\Roaming\\nltk_data...\n",
      "[nltk_data]   Package punkt_tab is already up-to-date!\n"
     ]
    },
    {
     "data": {
      "text/plain": [
       "True"
      ]
     },
     "execution_count": 5,
     "metadata": {},
     "output_type": "execute_result"
    }
   ],
   "source": [
    "import nltk\n",
    "nltk.download('punkt_tab')\n"
   ]
  },
  {
   "cell_type": "code",
   "execution_count": 6,
   "id": "59b809f6-f135-4a2c-980b-6118c969df2c",
   "metadata": {},
   "outputs": [],
   "source": [
    "train_df[\"clean_text\"] = train_df[\"text\"].apply(clean_text)\n",
    "test_df[\"clean_text\"] = test_df[\"text\"].apply(clean_text)"
   ]
  },
  {
   "cell_type": "code",
   "execution_count": 7,
   "id": "b2ca2dc0-995a-4b20-a57a-05d71aa6de2c",
   "metadata": {},
   "outputs": [],
   "source": [
    "train_df.to_csv(\"../data/processed/train_clean.csv\", index=False)\n",
    "test_df.to_csv(\"../data/processed/test_clean.csv\", index=False)\n"
   ]
  },
  {
   "cell_type": "code",
   "execution_count": 8,
   "id": "2839f9a6-802b-4026-b532-74dd1ff293ba",
   "metadata": {},
   "outputs": [
    {
     "data": {
      "text/html": [
       "<div>\n",
       "<style scoped>\n",
       "    .dataframe tbody tr th:only-of-type {\n",
       "        vertical-align: middle;\n",
       "    }\n",
       "\n",
       "    .dataframe tbody tr th {\n",
       "        vertical-align: top;\n",
       "    }\n",
       "\n",
       "    .dataframe thead th {\n",
       "        text-align: right;\n",
       "    }\n",
       "</style>\n",
       "<table border=\"1\" class=\"dataframe\">\n",
       "  <thead>\n",
       "    <tr style=\"text-align: right;\">\n",
       "      <th></th>\n",
       "      <th>text</th>\n",
       "      <th>clean_text</th>\n",
       "    </tr>\n",
       "  </thead>\n",
       "  <tbody>\n",
       "    <tr>\n",
       "      <th>0</th>\n",
       "      <td>Bromwell High is a cartoon comedy. It ran at t...</td>\n",
       "      <td>bromwell high cartoon comedy ran time program ...</td>\n",
       "    </tr>\n",
       "    <tr>\n",
       "      <th>1</th>\n",
       "      <td>Homelessness (or Houselessness as George Carli...</td>\n",
       "      <td>homelessness houselessness george carlin state...</td>\n",
       "    </tr>\n",
       "    <tr>\n",
       "      <th>2</th>\n",
       "      <td>Brilliant over-acting by Lesley Ann Warren. Be...</td>\n",
       "      <td>brilliant acting lesley ann warren best dramat...</td>\n",
       "    </tr>\n",
       "    <tr>\n",
       "      <th>3</th>\n",
       "      <td>This is easily the most underrated film inn th...</td>\n",
       "      <td>easily underrated film inn brook cannon sure f...</td>\n",
       "    </tr>\n",
       "    <tr>\n",
       "      <th>4</th>\n",
       "      <td>This is not the typical Mel Brooks film. It wa...</td>\n",
       "      <td>typical mel brook film much less slapstick mov...</td>\n",
       "    </tr>\n",
       "    <tr>\n",
       "      <th>5</th>\n",
       "      <td>This isn't the comedic Robin Williams, nor is ...</td>\n",
       "      <td>comedic robin williams quirky insane robin wil...</td>\n",
       "    </tr>\n",
       "    <tr>\n",
       "      <th>6</th>\n",
       "      <td>Yes its an art... to successfully make a slow ...</td>\n",
       "      <td>yes art successfully make slow paced thriller ...</td>\n",
       "    </tr>\n",
       "    <tr>\n",
       "      <th>7</th>\n",
       "      <td>In this \"critically acclaimed psychological th...</td>\n",
       "      <td>critically acclaimed psychological thriller ba...</td>\n",
       "    </tr>\n",
       "    <tr>\n",
       "      <th>8</th>\n",
       "      <td>THE NIGHT LISTENER (2006) **1/2 Robin Williams...</td>\n",
       "      <td>night listener robin williams toni collette bo...</td>\n",
       "    </tr>\n",
       "    <tr>\n",
       "      <th>9</th>\n",
       "      <td>You know, Robin Williams, God bless him, is co...</td>\n",
       "      <td>know robin williams god bless constantly shoot...</td>\n",
       "    </tr>\n",
       "  </tbody>\n",
       "</table>\n",
       "</div>"
      ],
      "text/plain": [
       "                                                text  \\\n",
       "0  Bromwell High is a cartoon comedy. It ran at t...   \n",
       "1  Homelessness (or Houselessness as George Carli...   \n",
       "2  Brilliant over-acting by Lesley Ann Warren. Be...   \n",
       "3  This is easily the most underrated film inn th...   \n",
       "4  This is not the typical Mel Brooks film. It wa...   \n",
       "5  This isn't the comedic Robin Williams, nor is ...   \n",
       "6  Yes its an art... to successfully make a slow ...   \n",
       "7  In this \"critically acclaimed psychological th...   \n",
       "8  THE NIGHT LISTENER (2006) **1/2 Robin Williams...   \n",
       "9  You know, Robin Williams, God bless him, is co...   \n",
       "\n",
       "                                          clean_text  \n",
       "0  bromwell high cartoon comedy ran time program ...  \n",
       "1  homelessness houselessness george carlin state...  \n",
       "2  brilliant acting lesley ann warren best dramat...  \n",
       "3  easily underrated film inn brook cannon sure f...  \n",
       "4  typical mel brook film much less slapstick mov...  \n",
       "5  comedic robin williams quirky insane robin wil...  \n",
       "6  yes art successfully make slow paced thriller ...  \n",
       "7  critically acclaimed psychological thriller ba...  \n",
       "8  night listener robin williams toni collette bo...  \n",
       "9  know robin williams god bless constantly shoot...  "
      ]
     },
     "execution_count": 8,
     "metadata": {},
     "output_type": "execute_result"
    }
   ],
   "source": [
    "train_df[[\"text\", \"clean_text\"]].head(10)\n"
   ]
  },
  {
   "cell_type": "code",
   "execution_count": null,
   "id": "9d3e430d-99a0-4f81-9257-cc0c8cffd27e",
   "metadata": {},
   "outputs": [
    {
     "name": "stdout",
     "output_type": "stream",
     "text": [
      "train shape: (25000, 20000)\n",
      "test shape: (25000, 20000)\n",
      "dtype: int64 sparsity: 0.005344216\n"
     ]
    }
   ],
   "source": [
    "from sklearn.feature_extraction.text import CountVectorizer\n",
    "\n",
    "vect = CountVectorizer(ngram_range=(1,3), max_features=20000, binary=True)\n",
    "\n",
    "\n",
    "X_train_counts = vect.fit_transform(train_df['clean_text'])\n",
    "\n",
    "\n",
    "X_test_counts = vect.transform(test_df['clean_text'])\n",
    "\n",
    "print(\"train shape:\", X_train_counts.shape)\n",
    "print(\"test shape:\", X_test_counts.shape)\n",
    "print(\"dtype:\", X_train_counts.dtype, \"sparsity:\", X_train_counts.nnz / (X_train_counts.shape[0]*X_train_counts.shape[1]))\n"
   ]
  },
  {
   "cell_type": "code",
   "execution_count": 10,
   "id": "e016c38d-c144-4e35-9b60-08c9408e39de",
   "metadata": {},
   "outputs": [
    {
     "name": "stdout",
     "output_type": "stream",
     "text": [
      "              precision    recall  f1-score   support\n",
      "\n",
      "           0       0.86      0.87      0.86     12500\n",
      "           1       0.87      0.85      0.86     12500\n",
      "\n",
      "    accuracy                           0.86     25000\n",
      "   macro avg       0.86      0.86      0.86     25000\n",
      "weighted avg       0.86      0.86      0.86     25000\n",
      "\n",
      "Confusion matrix:\n",
      " [[10863  1637]\n",
      " [ 1821 10679]]\n"
     ]
    }
   ],
   "source": [
    "from sklearn.pipeline import Pipeline\n",
    "from sklearn.naive_bayes import MultinomialNB\n",
    "from sklearn.metrics import classification_report, confusion_matrix\n",
    "\n",
    "# Build pipeline: vectorizer then classifier\n",
    "pipeline_nb = Pipeline([\n",
    "    ('vect', CountVectorizer(ngram_range=(1,3), max_features=20000, binary=True)),\n",
    "    ('clf', MultinomialNB(alpha=1.0))\n",
    "])\n",
    "\n",
    "# Fit on train (vectorizer will be fit inside pipeline)\n",
    "pipeline_nb.fit(train_df['clean_text'], train_df['label'])\n",
    "\n",
    "# Predict on test\n",
    "y_pred = pipeline_nb.predict(test_df['clean_text'])\n",
    "\n",
    "# Evaluate\n",
    "print(classification_report(test_df['label'], y_pred))\n",
    "cm = confusion_matrix(test_df['label'], y_pred)\n",
    "print(\"Confusion matrix:\\n\", cm)\n"
   ]
  },
  {
   "cell_type": "code",
   "execution_count": 11,
   "id": "fe4415a5-f2f2-4466-ad95-2364b9ffb545",
   "metadata": {},
   "outputs": [
    {
     "name": "stdout",
     "output_type": "stream",
     "text": [
      "TFIDF train shape: (25000, 20000)\n",
      "TFIDF test shape: (25000, 20000)\n"
     ]
    }
   ],
   "source": [
    "from sklearn.feature_extraction.text import TfidfVectorizer\n",
    "\n",
    "tfidf = TfidfVectorizer(ngram_range=(1,2), max_features=20000)   # try unigrams+bigrams\n",
    "X_train_tfidf = tfidf.fit_transform(train_df['clean_text'])\n",
    "X_test_tfidf  = tfidf.transform(test_df['clean_text'])\n",
    "\n",
    "print(\"TFIDF train shape:\", X_train_tfidf.shape)\n",
    "print(\"TFIDF test shape:\", X_test_tfidf.shape)\n"
   ]
  },
  {
   "cell_type": "code",
   "execution_count": 12,
   "id": "0a4aefad-8959-4c34-8d74-230225a62409",
   "metadata": {},
   "outputs": [
    {
     "name": "stdout",
     "output_type": "stream",
     "text": [
      "              precision    recall  f1-score   support\n",
      "\n",
      "           0       0.89      0.88      0.89     12500\n",
      "           1       0.88      0.89      0.89     12500\n",
      "\n",
      "    accuracy                           0.89     25000\n",
      "   macro avg       0.89      0.89      0.89     25000\n",
      "weighted avg       0.89      0.89      0.89     25000\n",
      "\n"
     ]
    }
   ],
   "source": [
    "from sklearn.linear_model import LogisticRegression\n",
    "\n",
    "pipeline_lr = Pipeline([\n",
    "    ('vect', TfidfVectorizer(ngram_range=(1,2), max_features=20000)),\n",
    "    ('clf', LogisticRegression(solver='saga', max_iter=1000))\n",
    "])\n",
    "\n",
    "pipeline_lr.fit(train_df['clean_text'], train_df['label'])\n",
    "print(classification_report(test_df['label'], pipeline_lr.predict(test_df['clean_text'])))\n"
   ]
  },
  {
   "cell_type": "code",
   "execution_count": 13,
   "id": "70b0d3fe-587d-4687-959c-56299ef9a39d",
   "metadata": {},
   "outputs": [
    {
     "name": "stdout",
     "output_type": "stream",
     "text": [
      "Fitting 3 folds for each of 8 candidates, totalling 24 fits\n",
      "Best params: {'clf__C': 1.0, 'vect__max_features': 5000, 'vect__ngram_range': (1, 2)}\n",
      "Test report:\n",
      "              precision    recall  f1-score   support\n",
      "\n",
      "           0       0.89      0.88      0.88     12500\n",
      "           1       0.88      0.89      0.88     12500\n",
      "\n",
      "    accuracy                           0.88     25000\n",
      "   macro avg       0.88      0.88      0.88     25000\n",
      "weighted avg       0.88      0.88      0.88     25000\n",
      "\n"
     ]
    }
   ],
   "source": [
    "from sklearn.model_selection import GridSearchCV\n",
    "\n",
    "pipe = Pipeline([\n",
    "    ('vect', TfidfVectorizer()),\n",
    "    ('clf', LogisticRegression(solver='saga', max_iter=1000))\n",
    "])\n",
    "\n",
    "param_grid = {\n",
    "    'vect__ngram_range': [(1,1), (1,2)],\n",
    "    'vect__max_features': [5000, 20000],\n",
    "    'clf__C': [0.1, 1.0]\n",
    "}\n",
    "\n",
    "gs = GridSearchCV(pipe, param_grid, cv=3, n_jobs=-1, verbose=2)\n",
    "gs.fit(train_df['clean_text'], train_df['label'])\n",
    "\n",
    "print(\"Best params:\", gs.best_params_)\n",
    "print(\"Test report:\")\n",
    "print(classification_report(test_df['label'], gs.predict(test_df['clean_text'])))\n"
   ]
  },
  {
   "cell_type": "code",
   "execution_count": 14,
   "id": "b038f3f3-28af-4190-a8a8-03f36fedc3f1",
   "metadata": {},
   "outputs": [
    {
     "data": {
      "text/plain": [
       "['../models/nb_pipeline.joblib']"
      ]
     },
     "execution_count": 14,
     "metadata": {},
     "output_type": "execute_result"
    }
   ],
   "source": [
    "import joblib\n",
    "joblib.dump(pipeline_nb, \"../models/nb_pipeline.joblib\")\n",
    "# or save a GridSearch best estimator:\n",
    "# joblib.dump(gs.best_estimator_, \"../models/best_lr_pipeline.joblib\")\n"
   ]
  },
  {
   "cell_type": "code",
   "execution_count": 15,
   "id": "06a2a624-e4ef-4e6d-a835-08ea3eadb285",
   "metadata": {},
   "outputs": [
    {
     "name": "stdout",
     "output_type": "stream",
     "text": [
      "Model saved!\n"
     ]
    }
   ],
   "source": [
    "import joblib\n",
    "\n",
    "# save pipeline\n",
    "joblib.dump(pipeline_lr, \"../models/logreg_tfidf_pipeline.joblib\")\n",
    "print(\"Model saved!\")\n"
   ]
  },
  {
   "cell_type": "code",
   "execution_count": 16,
   "id": "54890668-5321-44a6-8559-84e7f69e120f",
   "metadata": {},
   "outputs": [
    {
     "name": "stdout",
     "output_type": "stream",
     "text": [
      "Prediction: 1\n"
     ]
    }
   ],
   "source": [
    "# load pipeline back\n",
    "loaded_model = joblib.load(\"../models/logreg_tfidf_pipeline.joblib\")\n",
    "\n",
    "# test on one review\n",
    "sample = \"The movie was absolutely wonderful, I loved it!\"\n",
    "print(\"Prediction:\", loaded_model.predict([sample])[0])\n"
   ]
  },
  {
   "cell_type": "code",
   "execution_count": 17,
   "id": "3c9ddc70-1140-4ecd-a9a6-10583e650b4a",
   "metadata": {},
   "outputs": [
    {
     "name": "stdout",
     "output_type": "stream",
     "text": [
      "SVM Classification Report:\n",
      "              precision    recall  f1-score   support\n",
      "\n",
      "           0       0.87      0.88      0.87     12500\n",
      "           1       0.88      0.86      0.87     12500\n",
      "\n",
      "    accuracy                           0.87     25000\n",
      "   macro avg       0.87      0.87      0.87     25000\n",
      "weighted avg       0.87      0.87      0.87     25000\n",
      "\n",
      "Confusion Matrix:\n",
      "[[11043  1457]\n",
      " [ 1716 10784]]\n"
     ]
    }
   ],
   "source": [
    "from sklearn.pipeline import Pipeline\n",
    "from sklearn.feature_extraction.text import TfidfVectorizer\n",
    "from sklearn.svm import LinearSVC\n",
    "from sklearn.metrics import classification_report, confusion_matrix\n",
    "\n",
    "# pipeline for SVM\n",
    "pipeline_svm = Pipeline([\n",
    "    (\"vect\", TfidfVectorizer(max_features=20000, ngram_range=(1,2))),\n",
    "    (\"clf\", LinearSVC(C=1.0))  # C = inverse of regularization strength\n",
    "])\n",
    "\n",
    "pipeline_svm.fit(train_df[\"clean_text\"], train_df[\"label\"])\n",
    "y_pred = pipeline_svm.predict(test_df[\"clean_text\"])\n",
    "\n",
    "print(\"SVM Classification Report:\")\n",
    "print(classification_report(test_df[\"label\"], y_pred))\n",
    "\n",
    "print(\"Confusion Matrix:\")\n",
    "print(confusion_matrix(test_df[\"label\"], y_pred))\n"
   ]
  },
  {
   "cell_type": "code",
   "execution_count": 18,
   "id": "82cccf6d-8150-4803-b391-35c276a6f8bc",
   "metadata": {},
   "outputs": [
    {
     "name": "stdout",
     "output_type": "stream",
     "text": [
      "SVM pipeline saved!\n"
     ]
    }
   ],
   "source": [
    "import joblib\n",
    "\n",
    "joblib.dump(pipeline_svm, \"../models/svm_tfidf_pipeline.joblib\")\n",
    "print(\"SVM pipeline saved!\")\n"
   ]
  },
  {
   "cell_type": "code",
   "execution_count": 19,
   "id": "dcd5be21-17dc-4772-9d73-1d00be786ea7",
   "metadata": {},
   "outputs": [
    {
     "name": "stdout",
     "output_type": "stream",
     "text": [
      "Random Forest Classification Report:\n",
      "              precision    recall  f1-score   support\n",
      "\n",
      "           0       0.85      0.84      0.85     12500\n",
      "           1       0.84      0.86      0.85     12500\n",
      "\n",
      "    accuracy                           0.85     25000\n",
      "   macro avg       0.85      0.85      0.85     25000\n",
      "weighted avg       0.85      0.85      0.85     25000\n",
      "\n",
      "Confusion Matrix:\n",
      "[[10521  1979]\n",
      " [ 1810 10690]]\n"
     ]
    }
   ],
   "source": [
    "from sklearn.ensemble import RandomForestClassifier\n",
    "\n",
    "pipeline_rf = Pipeline([\n",
    "    (\"vect\", TfidfVectorizer(max_features=10000, ngram_range=(1,3))),  # smaller features for speed\n",
    "    (\"clf\", RandomForestClassifier(n_estimators=100, max_depth=50, random_state=42, n_jobs=-1))\n",
    "])\n",
    "\n",
    "pipeline_rf.fit(train_df[\"clean_text\"], train_df[\"label\"])\n",
    "y_pred = pipeline_rf.predict(test_df[\"clean_text\"])\n",
    "\n",
    "print(\"Random Forest Classification Report:\")\n",
    "print(classification_report(test_df[\"label\"], y_pred))\n",
    "\n",
    "print(\"Confusion Matrix:\")\n",
    "print(confusion_matrix(test_df[\"label\"], y_pred))\n"
   ]
  },
  {
   "cell_type": "code",
   "execution_count": 20,
   "id": "cceb2506-8f22-41cc-b95b-5499abd15433",
   "metadata": {},
   "outputs": [
    {
     "name": "stdout",
     "output_type": "stream",
     "text": [
      "Random Forest pipeline saved!\n"
     ]
    }
   ],
   "source": [
    "import joblib\n",
    "\n",
    "joblib.dump(pipeline_rf, \"../models/rf_tfidf_pipeline.joblib\")\n",
    "print(\"Random Forest pipeline saved!\")\n"
   ]
  },
  {
   "cell_type": "code",
   "execution_count": 21,
   "id": "a8f975ad-1a34-4bb7-9e2a-cce33b1d6d52",
   "metadata": {},
   "outputs": [
    {
     "name": "stdout",
     "output_type": "stream",
     "text": [
      "Gradient Boosting Classification Report:\n",
      "              precision    recall  f1-score   support\n",
      "\n",
      "           0       0.85      0.76      0.80     12500\n",
      "           1       0.78      0.86      0.82     12500\n",
      "\n",
      "    accuracy                           0.81     25000\n",
      "   macro avg       0.82      0.81      0.81     25000\n",
      "weighted avg       0.82      0.81      0.81     25000\n",
      "\n",
      "Confusion Matrix:\n",
      "[[ 9477  3023]\n",
      " [ 1688 10812]]\n"
     ]
    }
   ],
   "source": [
    "from sklearn.ensemble import GradientBoostingClassifier\n",
    "\n",
    "pipeline_gb = Pipeline([\n",
    "    (\"vect\", TfidfVectorizer(max_features=10000, ngram_range=(1,2))),  # smaller vocab for speed\n",
    "    (\"clf\", GradientBoostingClassifier(n_estimators=100, learning_rate=0.1, max_depth=3, random_state=42))\n",
    "])\n",
    "\n",
    "pipeline_gb.fit(train_df[\"clean_text\"], train_df[\"label\"])\n",
    "y_pred = pipeline_gb.predict(test_df[\"clean_text\"])\n",
    "\n",
    "print(\"Gradient Boosting Classification Report:\")\n",
    "print(classification_report(test_df[\"label\"], y_pred))\n",
    "\n",
    "print(\"Confusion Matrix:\")\n",
    "print(confusion_matrix(test_df[\"label\"], y_pred))\n"
   ]
  },
  {
   "cell_type": "code",
   "execution_count": 22,
   "id": "c770693f-df97-47f7-8f58-d9ff34370c1f",
   "metadata": {},
   "outputs": [
    {
     "name": "stdout",
     "output_type": "stream",
     "text": [
      "Gradient Boosting pipeline saved!\n"
     ]
    }
   ],
   "source": [
    "import joblib\n",
    "joblib.dump(pipeline_gb, \"../models/gb_tfidf_pipeline.joblib\")\n",
    "print(\"Gradient Boosting pipeline saved!\")\n"
   ]
  },
  {
   "cell_type": "code",
   "execution_count": 24,
   "id": "ac90b05d-a7af-465b-b54a-937b7015efc4",
   "metadata": {},
   "outputs": [
    {
     "name": "stdout",
     "output_type": "stream",
     "text": [
      "Train shape: (25000, 10000)  Test shape: (25000, 10000)\n"
     ]
    }
   ],
   "source": [
    "from sklearn.feature_extraction.text import TfidfVectorizer\n",
    "\n",
    "tfidf = TfidfVectorizer(max_features=10000, ngram_range=(1,3))\n",
    "X_train_tfidf = tfidf.fit_transform(train_df[\"clean_text\"])\n",
    "X_test_tfidf  = tfidf.transform(test_df[\"clean_text\"])\n",
    "\n",
    "y_train = train_df[\"label\"].values\n",
    "y_test  = test_df[\"label\"].values\n",
    "\n",
    "# Convert to dense arrays\n",
    "X_train_dense = X_train_tfidf.toarray()\n",
    "X_test_dense  = X_test_tfidf.toarray()\n",
    "\n",
    "print(\"Train shape:\", X_train_dense.shape, \" Test shape:\", X_test_dense.shape)\n"
   ]
  },
  {
   "cell_type": "code",
   "execution_count": 25,
   "id": "6bf3c739-1785-42e2-95cc-d3030d36f843",
   "metadata": {},
   "outputs": [
    {
     "name": "stderr",
     "output_type": "stream",
     "text": [
      "c:\\Users\\venka\\Uday\\.venv\\Lib\\site-packages\\keras\\src\\layers\\core\\dense.py:92: UserWarning: Do not pass an `input_shape`/`input_dim` argument to a layer. When using Sequential models, prefer using an `Input(shape)` object as the first layer in the model instead.\n",
      "  super().__init__(activity_regularizer=activity_regularizer, **kwargs)\n"
     ]
    },
    {
     "data": {
      "text/html": [
       "<pre style=\"white-space:pre;overflow-x:auto;line-height:normal;font-family:Menlo,'DejaVu Sans Mono',consolas,'Courier New',monospace\"><span style=\"font-weight: bold\">Model: \"sequential\"</span>\n",
       "</pre>\n"
      ],
      "text/plain": [
       "\u001b[1mModel: \"sequential\"\u001b[0m\n"
      ]
     },
     "metadata": {},
     "output_type": "display_data"
    },
    {
     "data": {
      "text/html": [
       "<pre style=\"white-space:pre;overflow-x:auto;line-height:normal;font-family:Menlo,'DejaVu Sans Mono',consolas,'Courier New',monospace\">┏━━━━━━━━━━━━━━━━━━━━━━━━━━━━━━━━━━━━━━┳━━━━━━━━━━━━━━━━━━━━━━━━━━━━━┳━━━━━━━━━━━━━━━━━┓\n",
       "┃<span style=\"font-weight: bold\"> Layer (type)                         </span>┃<span style=\"font-weight: bold\"> Output Shape                </span>┃<span style=\"font-weight: bold\">         Param # </span>┃\n",
       "┡━━━━━━━━━━━━━━━━━━━━━━━━━━━━━━━━━━━━━━╇━━━━━━━━━━━━━━━━━━━━━━━━━━━━━╇━━━━━━━━━━━━━━━━━┩\n",
       "│ dense (<span style=\"color: #0087ff; text-decoration-color: #0087ff\">Dense</span>)                        │ (<span style=\"color: #00d7ff; text-decoration-color: #00d7ff\">None</span>, <span style=\"color: #00af00; text-decoration-color: #00af00\">128</span>)                 │       <span style=\"color: #00af00; text-decoration-color: #00af00\">1,280,128</span> │\n",
       "├──────────────────────────────────────┼─────────────────────────────┼─────────────────┤\n",
       "│ dropout (<span style=\"color: #0087ff; text-decoration-color: #0087ff\">Dropout</span>)                    │ (<span style=\"color: #00d7ff; text-decoration-color: #00d7ff\">None</span>, <span style=\"color: #00af00; text-decoration-color: #00af00\">128</span>)                 │               <span style=\"color: #00af00; text-decoration-color: #00af00\">0</span> │\n",
       "├──────────────────────────────────────┼─────────────────────────────┼─────────────────┤\n",
       "│ dense_1 (<span style=\"color: #0087ff; text-decoration-color: #0087ff\">Dense</span>)                      │ (<span style=\"color: #00d7ff; text-decoration-color: #00d7ff\">None</span>, <span style=\"color: #00af00; text-decoration-color: #00af00\">64</span>)                  │           <span style=\"color: #00af00; text-decoration-color: #00af00\">8,256</span> │\n",
       "├──────────────────────────────────────┼─────────────────────────────┼─────────────────┤\n",
       "│ dropout_1 (<span style=\"color: #0087ff; text-decoration-color: #0087ff\">Dropout</span>)                  │ (<span style=\"color: #00d7ff; text-decoration-color: #00d7ff\">None</span>, <span style=\"color: #00af00; text-decoration-color: #00af00\">64</span>)                  │               <span style=\"color: #00af00; text-decoration-color: #00af00\">0</span> │\n",
       "├──────────────────────────────────────┼─────────────────────────────┼─────────────────┤\n",
       "│ dense_2 (<span style=\"color: #0087ff; text-decoration-color: #0087ff\">Dense</span>)                      │ (<span style=\"color: #00d7ff; text-decoration-color: #00d7ff\">None</span>, <span style=\"color: #00af00; text-decoration-color: #00af00\">1</span>)                   │              <span style=\"color: #00af00; text-decoration-color: #00af00\">65</span> │\n",
       "└──────────────────────────────────────┴─────────────────────────────┴─────────────────┘\n",
       "</pre>\n"
      ],
      "text/plain": [
       "┏━━━━━━━━━━━━━━━━━━━━━━━━━━━━━━━━━━━━━━┳━━━━━━━━━━━━━━━━━━━━━━━━━━━━━┳━━━━━━━━━━━━━━━━━┓\n",
       "┃\u001b[1m \u001b[0m\u001b[1mLayer (type)                        \u001b[0m\u001b[1m \u001b[0m┃\u001b[1m \u001b[0m\u001b[1mOutput Shape               \u001b[0m\u001b[1m \u001b[0m┃\u001b[1m \u001b[0m\u001b[1m        Param #\u001b[0m\u001b[1m \u001b[0m┃\n",
       "┡━━━━━━━━━━━━━━━━━━━━━━━━━━━━━━━━━━━━━━╇━━━━━━━━━━━━━━━━━━━━━━━━━━━━━╇━━━━━━━━━━━━━━━━━┩\n",
       "│ dense (\u001b[38;5;33mDense\u001b[0m)                        │ (\u001b[38;5;45mNone\u001b[0m, \u001b[38;5;34m128\u001b[0m)                 │       \u001b[38;5;34m1,280,128\u001b[0m │\n",
       "├──────────────────────────────────────┼─────────────────────────────┼─────────────────┤\n",
       "│ dropout (\u001b[38;5;33mDropout\u001b[0m)                    │ (\u001b[38;5;45mNone\u001b[0m, \u001b[38;5;34m128\u001b[0m)                 │               \u001b[38;5;34m0\u001b[0m │\n",
       "├──────────────────────────────────────┼─────────────────────────────┼─────────────────┤\n",
       "│ dense_1 (\u001b[38;5;33mDense\u001b[0m)                      │ (\u001b[38;5;45mNone\u001b[0m, \u001b[38;5;34m64\u001b[0m)                  │           \u001b[38;5;34m8,256\u001b[0m │\n",
       "├──────────────────────────────────────┼─────────────────────────────┼─────────────────┤\n",
       "│ dropout_1 (\u001b[38;5;33mDropout\u001b[0m)                  │ (\u001b[38;5;45mNone\u001b[0m, \u001b[38;5;34m64\u001b[0m)                  │               \u001b[38;5;34m0\u001b[0m │\n",
       "├──────────────────────────────────────┼─────────────────────────────┼─────────────────┤\n",
       "│ dense_2 (\u001b[38;5;33mDense\u001b[0m)                      │ (\u001b[38;5;45mNone\u001b[0m, \u001b[38;5;34m1\u001b[0m)                   │              \u001b[38;5;34m65\u001b[0m │\n",
       "└──────────────────────────────────────┴─────────────────────────────┴─────────────────┘\n"
      ]
     },
     "metadata": {},
     "output_type": "display_data"
    },
    {
     "data": {
      "text/html": [
       "<pre style=\"white-space:pre;overflow-x:auto;line-height:normal;font-family:Menlo,'DejaVu Sans Mono',consolas,'Courier New',monospace\"><span style=\"font-weight: bold\"> Total params: </span><span style=\"color: #00af00; text-decoration-color: #00af00\">1,288,449</span> (4.92 MB)\n",
       "</pre>\n"
      ],
      "text/plain": [
       "\u001b[1m Total params: \u001b[0m\u001b[38;5;34m1,288,449\u001b[0m (4.92 MB)\n"
      ]
     },
     "metadata": {},
     "output_type": "display_data"
    },
    {
     "data": {
      "text/html": [
       "<pre style=\"white-space:pre;overflow-x:auto;line-height:normal;font-family:Menlo,'DejaVu Sans Mono',consolas,'Courier New',monospace\"><span style=\"font-weight: bold\"> Trainable params: </span><span style=\"color: #00af00; text-decoration-color: #00af00\">1,288,449</span> (4.92 MB)\n",
       "</pre>\n"
      ],
      "text/plain": [
       "\u001b[1m Trainable params: \u001b[0m\u001b[38;5;34m1,288,449\u001b[0m (4.92 MB)\n"
      ]
     },
     "metadata": {},
     "output_type": "display_data"
    },
    {
     "data": {
      "text/html": [
       "<pre style=\"white-space:pre;overflow-x:auto;line-height:normal;font-family:Menlo,'DejaVu Sans Mono',consolas,'Courier New',monospace\"><span style=\"font-weight: bold\"> Non-trainable params: </span><span style=\"color: #00af00; text-decoration-color: #00af00\">0</span> (0.00 B)\n",
       "</pre>\n"
      ],
      "text/plain": [
       "\u001b[1m Non-trainable params: \u001b[0m\u001b[38;5;34m0\u001b[0m (0.00 B)\n"
      ]
     },
     "metadata": {},
     "output_type": "display_data"
    }
   ],
   "source": [
    "from tensorflow.keras.models import Sequential\n",
    "from tensorflow.keras.layers import Dense, Dropout\n",
    "\n",
    "# Simple feedforward NN\n",
    "model = Sequential([\n",
    "    Dense(128, activation='relu', input_shape=(X_train_dense.shape[1],)),\n",
    "    Dropout(0.5),\n",
    "    Dense(64, activation='relu'),\n",
    "    Dropout(0.5),\n",
    "    Dense(1, activation='sigmoid')  # binary output\n",
    "])\n",
    "\n",
    "model.compile(optimizer='adam',\n",
    "              loss='binary_crossentropy',\n",
    "              metrics=['accuracy'])\n",
    "\n",
    "model.summary()\n"
   ]
  },
  {
   "cell_type": "code",
   "execution_count": 26,
   "id": "4e696d9e-ac32-4e2f-836d-6ebc00f3d216",
   "metadata": {},
   "outputs": [
    {
     "name": "stdout",
     "output_type": "stream",
     "text": [
      "Epoch 1/5\n",
      "157/157 - 8s - 53ms/step - accuracy: 0.7841 - loss: 0.4405 - val_accuracy: 0.7966 - val_loss: 0.4958\n",
      "Epoch 2/5\n",
      "157/157 - 4s - 26ms/step - accuracy: 0.9252 - loss: 0.2006 - val_accuracy: 0.8298 - val_loss: 0.4308\n",
      "Epoch 3/5\n",
      "157/157 - 4s - 25ms/step - accuracy: 0.9561 - loss: 0.1263 - val_accuracy: 0.8096 - val_loss: 0.5592\n",
      "Epoch 4/5\n",
      "157/157 - 4s - 23ms/step - accuracy: 0.9731 - loss: 0.0829 - val_accuracy: 0.8228 - val_loss: 0.5917\n",
      "Epoch 5/5\n",
      "157/157 - 4s - 25ms/step - accuracy: 0.9865 - loss: 0.0488 - val_accuracy: 0.8354 - val_loss: 0.6289\n"
     ]
    }
   ],
   "source": [
    "history = model.fit(\n",
    "    X_train_dense, y_train,\n",
    "    validation_split=0.2,\n",
    "    epochs=5,\n",
    "    batch_size=128,\n",
    "    verbose=2\n",
    ")\n"
   ]
  },
  {
   "cell_type": "code",
   "execution_count": 27,
   "id": "326abe3b-4638-428a-9564-ca11cad72134",
   "metadata": {},
   "outputs": [
    {
     "name": "stdout",
     "output_type": "stream",
     "text": [
      "Test Accuracy: 0.8564\n"
     ]
    }
   ],
   "source": [
    "loss, acc = model.evaluate(X_test_dense, y_test, verbose=0)\n",
    "print(f\"Test Accuracy: {acc:.4f}\")\n"
   ]
  },
  {
   "cell_type": "code",
   "execution_count": 28,
   "id": "ad0fce3f-4da4-4cd9-a029-eed435df6579",
   "metadata": {},
   "outputs": [
    {
     "name": "stdout",
     "output_type": "stream",
     "text": [
      "\u001b[1m782/782\u001b[0m \u001b[32m━━━━━━━━━━━━━━━━━━━━\u001b[0m\u001b[37m\u001b[0m \u001b[1m3s\u001b[0m 3ms/step\n",
      "DNN Classification Report:\n",
      "              precision    recall  f1-score   support\n",
      "\n",
      "           0       0.87      0.84      0.85     12500\n",
      "           1       0.84      0.88      0.86     12500\n",
      "\n",
      "    accuracy                           0.86     25000\n",
      "   macro avg       0.86      0.86      0.86     25000\n",
      "weighted avg       0.86      0.86      0.86     25000\n",
      "\n",
      "Confusion Matrix:\n",
      "[[10457  2043]\n",
      " [ 1546 10954]]\n"
     ]
    }
   ],
   "source": [
    "import numpy as np\n",
    "from sklearn.metrics import classification_report, confusion_matrix\n",
    "\n",
    "y_pred_probs = model.predict(X_test_dense)\n",
    "y_pred = (y_pred_probs > 0.5).astype(\"int32\")\n",
    "\n",
    "print(\"DNN Classification Report:\")\n",
    "print(classification_report(y_test, y_pred))\n",
    "print(\"Confusion Matrix:\")\n",
    "print(confusion_matrix(y_test, y_pred))\n"
   ]
  },
  {
   "cell_type": "code",
   "execution_count": 29,
   "id": "1a371a33-96bf-42cf-855b-d8ae41f8c8f1",
   "metadata": {},
   "outputs": [
    {
     "name": "stdout",
     "output_type": "stream",
     "text": [
      "                 Model  Accuracy\n",
      "0          Naive Bayes      0.86\n",
      "1  Logistic Regression      0.89\n",
      "2                  SVM      0.87\n",
      "3        Random Forest      0.85\n",
      "4    Gradient Boosting      0.81\n",
      "5  Deep Neural Network      0.86\n"
     ]
    }
   ],
   "source": [
    "import pandas as pd\n",
    "\n",
    "results = []\n",
    "\n",
    "# Add your results manually from reports you already got\n",
    "results.append({\"Model\": \"Naive Bayes\", \"Accuracy\": 0.86})\n",
    "results.append({\"Model\": \"Logistic Regression\", \"Accuracy\": 0.89})\n",
    "results.append({\"Model\": \"SVM\", \"Accuracy\": 0.87})\n",
    "results.append({\"Model\": \"Random Forest\", \"Accuracy\": 0.85})\n",
    "results.append({\"Model\": \"Gradient Boosting\", \"Accuracy\": 0.81})\n",
    "results.append({\"Model\": \"Deep Neural Network\", \"Accuracy\": 0.86})\n",
    "\n",
    "df_results = pd.DataFrame(results)\n",
    "print(df_results)\n"
   ]
  },
  {
   "cell_type": "code",
   "execution_count": 32,
   "id": "2514d045-001d-410b-a5e9-24afc14120d6",
   "metadata": {},
   "outputs": [
    {
     "data": {
      "image/png": "[encoded data removed]",
      "text/plain": [
       "<Figure size 1000x600 with 1 Axes>"
      ]
     },
     "metadata": {},
     "output_type": "display_data"
    }
   ],
   "source": [
    "import matplotlib.pyplot as plt\n",
    "\n",
    "plt.figure(figsize=(10,6))\n",
    "plt.bar(df_results[\"Model\"], df_results[\"Accuracy\"], color=\"skyblue\", edgecolor=\"black\")\n",
    "plt.title(\"Model Comparison on IMDB Sentiment Analysis\", fontsize=14, weight=\"bold\")\n",
    "plt.ylabel(\"Accuracy\", fontsize=12)\n",
    "plt.ylim(0.75, 0.95)  # focus range for readability\n",
    "plt.grid(axis=\"y\", linestyle=\"--\", alpha=0.7)\n",
    "\n",
    "# Add values above bars\n",
    "for i, acc in enumerate(df_results[\"Accuracy\"]):\n",
    "    plt.text(i, acc + 0.005, f\"{acc:.2f}\", ha=\"center\", fontsize=10)\n",
    "\n",
    "plt.show()\n"
   ]
  },
  {
   "cell_type": "code",
   "execution_count": null,
   "id": "f0886065-ebf7-4d38-b1b7-8bcf4d2df944",
   "metadata": {},
   "outputs": [],
   "source": []
  }
 ],
 "metadata": {
  "kernelspec": {
   "display_name": "Python 3 (ipykernel)",
   "language": "python",
   "name": "python3"
  },
  "language_info": {
   "codemirror_mode": {
    "name": "ipython",
    "version": 3
   },
   "file_extension": ".py",
   "mimetype": "text/x-python",
   "name": "python",
   "nbconvert_exporter": "python",
   "pygments_lexer": "ipython3",
   "version": "3.13.5"
  }
 },
 "nbformat": 4,
 "nbformat_minor": 5
}
